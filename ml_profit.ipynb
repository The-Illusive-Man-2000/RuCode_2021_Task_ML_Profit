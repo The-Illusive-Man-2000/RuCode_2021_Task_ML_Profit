{
 "cells": [
  {
   "cell_type": "code",
   "execution_count": null,
   "id": "c598acbf",
   "metadata": {},
   "outputs": [],
   "source": [
    "#Прибыльная область ML\n",
    "#Руководство компании RuCodeCompany решило провести исследование рынка с целью выявления наиболее прибыльной области ML (из тех, в которых компания имеет экспертизу), чтобы сосредоточиться на выполнении новых контрактов именно в этих областях.\n",
    "\n",
    "#В результате анализа рынка получился датасет ml_profit_all.csv. Каждая строчка датасета содержит результаты оценки одной из областей (например, \"Speech synthesis\", \"Watson\", \"OCR\") за определённый год: выручку от области и расходы на проведение исследований. Поскольку анализ каждой области заказали нескольким агентствам, то для каждой области в каждый год есть несколько различных оценок.\n",
    "\n",
    "#Ваша задача состоит в том, чтобы выделить наиболее прибыльные области в среднем за все года по оценкам экспертов. А именно, нас интересует 95%-ый доверительный интервал для среднего значения.\n",
    "\n",
    "#Вам необходимо:\n",
    "\n",
    "#убрать из датасета строчки с пропущенными значениями;\n",
    "#добавить столбцы \"технология\" и \"доход\"=\"PROCEEDS\"-\"EXPENSES\";\n",
    "#для каждой технологии найти среднее значение оценок дохода, выделить три самые прибыльные технологии;\n",
    "#построить 95%-ый доверительный интервал для трёх самых прибыльных технологий.\n",
    "#Для построения 95%-ого доверительного интервала используйте метод бутстрепа. Он заключается в следующем. Для каждой технологии:\n",
    "\n",
    "#Постройте 500 бутстрепных выборок из исходных наблюдений\n",
    "#Для каждой бутстрепной выборки найдите среднее значение прибыли. Получилась новая выборка из 500 чисел.\n",
    "#Выберите левую и правую границы интервала так, чтобы 95% элементов новой выборки попали внутрь промежутка (выкинув по 2.5% слева и справа)\n",
    "#Интересующие нас столбцы:\n",
    "\n",
    "#PRIMARY_KEY: нужно извлечь название технологии\n",
    "#EXPENSES : затраты\n",
    "#PROCEEDS : выручка"
   ]
  },
  {
   "cell_type": "code",
   "execution_count": 1,
   "id": "684ac48d",
   "metadata": {},
   "outputs": [],
   "source": [
    "import os\n",
    "import cv2\n",
    "from glob import glob\n",
    "import pandas as pd\n",
    "from pathlib import Path\n",
    "import seaborn as sns\n",
    "from sklearn.preprocessing import StandardScaler\n",
    "from sklearn.utils import shuffle\n",
    "from sklearn.model_selection import train_test_split, GridSearchCV, cross_val_score\n",
    "from catboost import CatBoostRegressor, Pool, cv\n",
    "from catboost import CatBoostClassifier\n",
    "import numpy as np\n",
    "import random\n",
    "from scipy.stats import norm"
   ]
  },
  {
   "cell_type": "code",
   "execution_count": 2,
   "id": "58de8562",
   "metadata": {},
   "outputs": [],
   "source": [
    "df = pd.read_csv('ml_profit_all.csv')"
   ]
  },
  {
   "cell_type": "code",
   "execution_count": 3,
   "id": "964f9317",
   "metadata": {},
   "outputs": [
    {
     "data": {
      "text/html": [
       "<div>\n",
       "<style scoped>\n",
       "    .dataframe tbody tr th:only-of-type {\n",
       "        vertical-align: middle;\n",
       "    }\n",
       "\n",
       "    .dataframe tbody tr th {\n",
       "        vertical-align: top;\n",
       "    }\n",
       "\n",
       "    .dataframe thead th {\n",
       "        text-align: right;\n",
       "    }\n",
       "</style>\n",
       "<table border=\"1\" class=\"dataframe\">\n",
       "  <thead>\n",
       "    <tr style=\"text-align: right;\">\n",
       "      <th></th>\n",
       "      <th>Unnamed: 0</th>\n",
       "      <th>PRIMARY_KEY</th>\n",
       "      <th>EXPENSES</th>\n",
       "      <th>PROCEEDS</th>\n",
       "    </tr>\n",
       "  </thead>\n",
       "  <tbody>\n",
       "    <tr>\n",
       "      <th>0</th>\n",
       "      <td>0</td>\n",
       "      <td>2017_Speech synthesis</td>\n",
       "      <td>304177.0</td>\n",
       "      <td>1659028.0</td>\n",
       "    </tr>\n",
       "    <tr>\n",
       "      <th>1</th>\n",
       "      <td>1</td>\n",
       "      <td>2017_Watson</td>\n",
       "      <td>106780.0</td>\n",
       "      <td>720711.0</td>\n",
       "    </tr>\n",
       "    <tr>\n",
       "      <th>2</th>\n",
       "      <td>2</td>\n",
       "      <td>2017_OCR</td>\n",
       "      <td>297888.0</td>\n",
       "      <td>1369815.0</td>\n",
       "    </tr>\n",
       "    <tr>\n",
       "      <th>3</th>\n",
       "      <td>3</td>\n",
       "      <td>2017_Speech recognition</td>\n",
       "      <td>178571.0</td>\n",
       "      <td>958785.0</td>\n",
       "    </tr>\n",
       "    <tr>\n",
       "      <th>4</th>\n",
       "      <td>4</td>\n",
       "      <td>2017_Transformer</td>\n",
       "      <td>2072470.0</td>\n",
       "      <td>16546514.0</td>\n",
       "    </tr>\n",
       "    <tr>\n",
       "      <th>5</th>\n",
       "      <td>5</td>\n",
       "      <td>2017_Facial recognition</td>\n",
       "      <td>163253.0</td>\n",
       "      <td>1307986.0</td>\n",
       "    </tr>\n",
       "    <tr>\n",
       "      <th>6</th>\n",
       "      <td>6</td>\n",
       "      <td>2017_GPT-2</td>\n",
       "      <td>143542.0</td>\n",
       "      <td>142539.0</td>\n",
       "    </tr>\n",
       "    <tr>\n",
       "      <th>7</th>\n",
       "      <td>7</td>\n",
       "      <td>2017_AlphaGo</td>\n",
       "      <td>45945.0</td>\n",
       "      <td>420942.0</td>\n",
       "    </tr>\n",
       "    <tr>\n",
       "      <th>8</th>\n",
       "      <td>8</td>\n",
       "      <td>2017_Transformer</td>\n",
       "      <td>64749.0</td>\n",
       "      <td>0.0</td>\n",
       "    </tr>\n",
       "    <tr>\n",
       "      <th>9</th>\n",
       "      <td>9</td>\n",
       "      <td>2017_GPT-3</td>\n",
       "      <td>788420.0</td>\n",
       "      <td>5683949.0</td>\n",
       "    </tr>\n",
       "  </tbody>\n",
       "</table>\n",
       "</div>"
      ],
      "text/plain": [
       "   Unnamed: 0              PRIMARY_KEY   EXPENSES    PROCEEDS\n",
       "0           0    2017_Speech synthesis   304177.0   1659028.0\n",
       "1           1              2017_Watson   106780.0    720711.0\n",
       "2           2                 2017_OCR   297888.0   1369815.0\n",
       "3           3  2017_Speech recognition   178571.0    958785.0\n",
       "4           4         2017_Transformer  2072470.0  16546514.0\n",
       "5           5  2017_Facial recognition   163253.0   1307986.0\n",
       "6           6               2017_GPT-2   143542.0    142539.0\n",
       "7           7             2017_AlphaGo    45945.0    420942.0\n",
       "8           8         2017_Transformer    64749.0         0.0\n",
       "9           9               2017_GPT-3   788420.0   5683949.0"
      ]
     },
     "execution_count": 3,
     "metadata": {},
     "output_type": "execute_result"
    }
   ],
   "source": [
    "\n",
    "df.head(10)"
   ]
  },
  {
   "cell_type": "code",
   "execution_count": 4,
   "id": "e390d597",
   "metadata": {},
   "outputs": [
    {
     "data": {
      "text/plain": [
       "Unnamed: 0  PRIMARY_KEY            EXPENSES   PROCEEDS \n",
       "0           2017_Speech synthesis  304177.0   1659028.0    1\n",
       "847         2018_OCR               467492.0   2542639.0    1\n",
       "854         2018_Speech synthesis  1868700.0  9032615.0    1\n",
       "853         2018_Speech synthesis  515223.0   3202001.0    1\n",
       "852         2018_Speech synthesis  642088.0   2957101.0    1\n",
       "                                                          ..\n",
       "424         2020_Self-driving car  221530.0   2201788.0    1\n",
       "423         2020_WaveNet           217060.0   1879158.0    1\n",
       "422         2020_WaveNet           426266.0   4300608.0    1\n",
       "421         2020_WaveNet           1283052.0  6344130.0    1\n",
       "1274        2021_MuZero            123012.0   1175899.0    1\n",
       "Length: 1275, dtype: int64"
      ]
     },
     "execution_count": 4,
     "metadata": {},
     "output_type": "execute_result"
    }
   ],
   "source": [
    "df.value_counts()"
   ]
  },
  {
   "cell_type": "code",
   "execution_count": 5,
   "id": "90f1f611",
   "metadata": {},
   "outputs": [
    {
     "name": "stdout",
     "output_type": "stream",
     "text": [
      "<class 'pandas.core.frame.DataFrame'>\n",
      "RangeIndex: 1715 entries, 0 to 1714\n",
      "Data columns (total 4 columns):\n",
      " #   Column       Non-Null Count  Dtype  \n",
      "---  ------       --------------  -----  \n",
      " 0   Unnamed: 0   1715 non-null   int64  \n",
      " 1   PRIMARY_KEY  1715 non-null   object \n",
      " 2   EXPENSES     1275 non-null   float64\n",
      " 3   PROCEEDS     1275 non-null   float64\n",
      "dtypes: float64(2), int64(1), object(1)\n",
      "memory usage: 53.7+ KB\n"
     ]
    }
   ],
   "source": [
    "df.info()"
   ]
  },
  {
   "cell_type": "code",
   "execution_count": 6,
   "id": "ad2e1d9d",
   "metadata": {},
   "outputs": [
    {
     "data": {
      "text/html": [
       "<div>\n",
       "<style scoped>\n",
       "    .dataframe tbody tr th:only-of-type {\n",
       "        vertical-align: middle;\n",
       "    }\n",
       "\n",
       "    .dataframe tbody tr th {\n",
       "        vertical-align: top;\n",
       "    }\n",
       "\n",
       "    .dataframe thead th {\n",
       "        text-align: right;\n",
       "    }\n",
       "</style>\n",
       "<table border=\"1\" class=\"dataframe\">\n",
       "  <thead>\n",
       "    <tr style=\"text-align: right;\">\n",
       "      <th></th>\n",
       "      <th>Unnamed: 0</th>\n",
       "      <th>EXPENSES</th>\n",
       "      <th>PROCEEDS</th>\n",
       "    </tr>\n",
       "  </thead>\n",
       "  <tbody>\n",
       "    <tr>\n",
       "      <th>count</th>\n",
       "      <td>1715.000000</td>\n",
       "      <td>1.275000e+03</td>\n",
       "      <td>1.275000e+03</td>\n",
       "    </tr>\n",
       "    <tr>\n",
       "      <th>mean</th>\n",
       "      <td>857.000000</td>\n",
       "      <td>7.678200e+05</td>\n",
       "      <td>4.241109e+06</td>\n",
       "    </tr>\n",
       "    <tr>\n",
       "      <th>std</th>\n",
       "      <td>495.222172</td>\n",
       "      <td>1.147028e+06</td>\n",
       "      <td>5.631152e+06</td>\n",
       "    </tr>\n",
       "    <tr>\n",
       "      <th>min</th>\n",
       "      <td>0.000000</td>\n",
       "      <td>3.102000e+04</td>\n",
       "      <td>0.000000e+00</td>\n",
       "    </tr>\n",
       "    <tr>\n",
       "      <th>25%</th>\n",
       "      <td>428.500000</td>\n",
       "      <td>1.899575e+05</td>\n",
       "      <td>1.088766e+06</td>\n",
       "    </tr>\n",
       "    <tr>\n",
       "      <th>50%</th>\n",
       "      <td>857.000000</td>\n",
       "      <td>4.035480e+05</td>\n",
       "      <td>2.498847e+06</td>\n",
       "    </tr>\n",
       "    <tr>\n",
       "      <th>75%</th>\n",
       "      <td>1285.500000</td>\n",
       "      <td>8.279320e+05</td>\n",
       "      <td>4.901622e+06</td>\n",
       "    </tr>\n",
       "    <tr>\n",
       "      <th>max</th>\n",
       "      <td>1714.000000</td>\n",
       "      <td>9.990221e+06</td>\n",
       "      <td>5.090457e+07</td>\n",
       "    </tr>\n",
       "  </tbody>\n",
       "</table>\n",
       "</div>"
      ],
      "text/plain": [
       "        Unnamed: 0      EXPENSES      PROCEEDS\n",
       "count  1715.000000  1.275000e+03  1.275000e+03\n",
       "mean    857.000000  7.678200e+05  4.241109e+06\n",
       "std     495.222172  1.147028e+06  5.631152e+06\n",
       "min       0.000000  3.102000e+04  0.000000e+00\n",
       "25%     428.500000  1.899575e+05  1.088766e+06\n",
       "50%     857.000000  4.035480e+05  2.498847e+06\n",
       "75%    1285.500000  8.279320e+05  4.901622e+06\n",
       "max    1714.000000  9.990221e+06  5.090457e+07"
      ]
     },
     "execution_count": 6,
     "metadata": {},
     "output_type": "execute_result"
    }
   ],
   "source": [
    "df.describe()"
   ]
  },
  {
   "cell_type": "code",
   "execution_count": 7,
   "id": "922402d5",
   "metadata": {},
   "outputs": [
    {
     "name": "stdout",
     "output_type": "stream",
     "text": [
      "['PRIMARY_KEY']\n",
      "['Unnamed: 0', 'EXPENSES', 'PROCEEDS']\n"
     ]
    }
   ],
   "source": [
    "categorical_columns = [c for c in df.columns if df[c].dtype.name == 'object']\n",
    "numerical_columns   = [c for c in df.columns if df[c].dtype.name != 'object']\n",
    "print (categorical_columns)\n",
    "print (numerical_columns)"
   ]
  },
  {
   "cell_type": "code",
   "execution_count": 8,
   "id": "0585a99e",
   "metadata": {},
   "outputs": [
    {
     "data": {
      "text/html": [
       "<div>\n",
       "<style scoped>\n",
       "    .dataframe tbody tr th:only-of-type {\n",
       "        vertical-align: middle;\n",
       "    }\n",
       "\n",
       "    .dataframe tbody tr th {\n",
       "        vertical-align: top;\n",
       "    }\n",
       "\n",
       "    .dataframe thead th {\n",
       "        text-align: right;\n",
       "    }\n",
       "</style>\n",
       "<table border=\"1\" class=\"dataframe\">\n",
       "  <thead>\n",
       "    <tr style=\"text-align: right;\">\n",
       "      <th></th>\n",
       "      <th>PRIMARY_KEY</th>\n",
       "    </tr>\n",
       "  </thead>\n",
       "  <tbody>\n",
       "    <tr>\n",
       "      <th>count</th>\n",
       "      <td>1715</td>\n",
       "    </tr>\n",
       "    <tr>\n",
       "      <th>unique</th>\n",
       "      <td>90</td>\n",
       "    </tr>\n",
       "    <tr>\n",
       "      <th>top</th>\n",
       "      <td>2019_Transformer</td>\n",
       "    </tr>\n",
       "    <tr>\n",
       "      <th>freq</th>\n",
       "      <td>49</td>\n",
       "    </tr>\n",
       "  </tbody>\n",
       "</table>\n",
       "</div>"
      ],
      "text/plain": [
       "             PRIMARY_KEY\n",
       "count               1715\n",
       "unique                90\n",
       "top     2019_Transformer\n",
       "freq                  49"
      ]
     },
     "execution_count": 8,
     "metadata": {},
     "output_type": "execute_result"
    }
   ],
   "source": [
    "df[categorical_columns].describe()"
   ]
  },
  {
   "cell_type": "code",
   "execution_count": 9,
   "id": "a62d6173",
   "metadata": {},
   "outputs": [
    {
     "name": "stdout",
     "output_type": "stream",
     "text": [
      "['2017_Speech synthesis' '2017_Watson' '2017_OCR'\n",
      " '2017_Speech recognition' '2017_Transformer' '2017_Facial recognition'\n",
      " '2017_GPT-2' '2017_AlphaGo' '2017_GPT-3' '2017_Human image synthesis'\n",
      " '2017_WaveNet' '2017_Self-driving car' '2017_BERT' '2017_Word2vec'\n",
      " '2017_Q-learning' '2017_MuZero' '2018_Speech synthesis' '2018_Watson'\n",
      " '2018_OCR' '2018_Speech recognition' '2018_Transformer'\n",
      " '2018_Facial recognition' '2018_GPT-2' '2018_AlphaGo' '2018_GPT-3'\n",
      " '2018_Human image synthesis' '2018_WaveNet' '2018_Self-driving car'\n",
      " '2018_BERT' '2018_Word2vec' '2018_Q-learning' '2018_MuZero'\n",
      " '2019_Speech synthesis' '2019_Watson' '2019_OCR'\n",
      " '2019_Speech recognition' '2019_Transformer' '2019_Facial recognition'\n",
      " '2019_GPT-2' '2019_AlphaGo' '2019_GPT-3' '2019_Human image synthesis'\n",
      " '2019_WaveNet' '2019_Self-driving car' '2019_BERT' '2019_Word2vec'\n",
      " '2019_Q-learning' '2019_MuZero' '2020_Speech synthesis' '2020_Watson'\n",
      " '2020_OCR' '2020_Speech recognition' '2020_Transformer'\n",
      " '2020_Facial recognition' '2020_GPT-2' '2020_AlphaGo' '2020_GPT-3'\n",
      " '2020_Human image synthesis' '2020_WaveNet' '2020_Self-driving car'\n",
      " '2020_BERT' '2020_Word2vec' '2020_Q-learning' '2020_MuZero'\n",
      " '2021_Speech synthesis' '2021_Watson' '2021_OCR'\n",
      " '2021_Speech recognition' '2021_Transformer' '2021_Facial recognition'\n",
      " '2021_GPT-2' '2021_AlphaGo' '2021_GPT-3' '2021_Human image synthesis'\n",
      " '2021_WaveNet' '2021_Self-driving car' '2021_BERT' '2021_Word2vec'\n",
      " '2021_Q-learning' '2021_MuZero' '2020_DODEA' '2020_NATIONAL' '2017_DODEA'\n",
      " '2017_NATIONAL' '2019_DODEA' '2019_NATIONAL' '2021_DODEA' '2021_NATIONAL'\n",
      " '2018_DODEA' '2018_NATIONAL']\n"
     ]
    }
   ],
   "source": [
    "for c in categorical_columns:\n",
    "    print (df[c].unique())"
   ]
  },
  {
   "cell_type": "code",
   "execution_count": 10,
   "id": "f9aa775e",
   "metadata": {},
   "outputs": [
    {
     "data": {
      "text/html": [
       "<div>\n",
       "<style scoped>\n",
       "    .dataframe tbody tr th:only-of-type {\n",
       "        vertical-align: middle;\n",
       "    }\n",
       "\n",
       "    .dataframe tbody tr th {\n",
       "        vertical-align: top;\n",
       "    }\n",
       "\n",
       "    .dataframe thead th {\n",
       "        text-align: right;\n",
       "    }\n",
       "</style>\n",
       "<table border=\"1\" class=\"dataframe\">\n",
       "  <thead>\n",
       "    <tr style=\"text-align: right;\">\n",
       "      <th></th>\n",
       "      <th>Unnamed: 0</th>\n",
       "      <th>EXPENSES</th>\n",
       "      <th>PROCEEDS</th>\n",
       "    </tr>\n",
       "  </thead>\n",
       "  <tbody>\n",
       "    <tr>\n",
       "      <th>Unnamed: 0</th>\n",
       "      <td>1.000000</td>\n",
       "      <td>0.273413</td>\n",
       "      <td>0.212877</td>\n",
       "    </tr>\n",
       "    <tr>\n",
       "      <th>EXPENSES</th>\n",
       "      <td>0.273413</td>\n",
       "      <td>1.000000</td>\n",
       "      <td>0.895438</td>\n",
       "    </tr>\n",
       "    <tr>\n",
       "      <th>PROCEEDS</th>\n",
       "      <td>0.212877</td>\n",
       "      <td>0.895438</td>\n",
       "      <td>1.000000</td>\n",
       "    </tr>\n",
       "  </tbody>\n",
       "</table>\n",
       "</div>"
      ],
      "text/plain": [
       "            Unnamed: 0  EXPENSES  PROCEEDS\n",
       "Unnamed: 0    1.000000  0.273413  0.212877\n",
       "EXPENSES      0.273413  1.000000  0.895438\n",
       "PROCEEDS      0.212877  0.895438  1.000000"
      ]
     },
     "execution_count": 10,
     "metadata": {},
     "output_type": "execute_result"
    }
   ],
   "source": [
    "df.corr()"
   ]
  },
  {
   "cell_type": "code",
   "execution_count": 11,
   "id": "66bac49b",
   "metadata": {},
   "outputs": [
    {
     "data": {
      "text/plain": [
       "<seaborn.axisgrid.PairGrid at 0x2372827d160>"
      ]
     },
     "execution_count": 11,
     "metadata": {},
     "output_type": "execute_result"
    },
    {
     "data": {
      "image/png": "[encoded data removed]",
      "text/plain": [
       "<Figure size 540x540 with 12 Axes>"
      ]
     },
     "metadata": {
      "needs_background": "light"
     },
     "output_type": "display_data"
    }
   ],
   "source": [
    "sns.pairplot(df)"
   ]
  },
  {
   "cell_type": "code",
   "execution_count": 12,
   "id": "8bf2813f",
   "metadata": {},
   "outputs": [],
   "source": [
    "df2 = df.copy()\n",
    "df2 = df2.dropna(axis=0)"
   ]
  },
  {
   "cell_type": "code",
   "execution_count": 13,
   "id": "43a1c3e1",
   "metadata": {},
   "outputs": [
    {
     "name": "stdout",
     "output_type": "stream",
     "text": [
      "<class 'pandas.core.frame.DataFrame'>\n",
      "Int64Index: 1275 entries, 0 to 1274\n",
      "Data columns (total 4 columns):\n",
      " #   Column       Non-Null Count  Dtype  \n",
      "---  ------       --------------  -----  \n",
      " 0   Unnamed: 0   1275 non-null   int64  \n",
      " 1   PRIMARY_KEY  1275 non-null   object \n",
      " 2   EXPENSES     1275 non-null   float64\n",
      " 3   PROCEEDS     1275 non-null   float64\n",
      "dtypes: float64(2), int64(1), object(1)\n",
      "memory usage: 49.8+ KB\n"
     ]
    }
   ],
   "source": [
    "df2.info()"
   ]
  },
  {
   "cell_type": "code",
   "execution_count": null,
   "id": "79c9bd1a",
   "metadata": {},
   "outputs": [],
   "source": []
  },
  {
   "cell_type": "code",
   "execution_count": 14,
   "id": "65b2ab5e",
   "metadata": {},
   "outputs": [],
   "source": [
    "df2[\"доход\"] = df2['PROCEEDS'] - df2['EXPENSES']"
   ]
  },
  {
   "cell_type": "code",
   "execution_count": 15,
   "id": "4ab68f71",
   "metadata": {},
   "outputs": [
    {
     "data": {
      "text/html": [
       "<div>\n",
       "<style scoped>\n",
       "    .dataframe tbody tr th:only-of-type {\n",
       "        vertical-align: middle;\n",
       "    }\n",
       "\n",
       "    .dataframe tbody tr th {\n",
       "        vertical-align: top;\n",
       "    }\n",
       "\n",
       "    .dataframe thead th {\n",
       "        text-align: right;\n",
       "    }\n",
       "</style>\n",
       "<table border=\"1\" class=\"dataframe\">\n",
       "  <thead>\n",
       "    <tr style=\"text-align: right;\">\n",
       "      <th></th>\n",
       "      <th>Unnamed: 0</th>\n",
       "      <th>PRIMARY_KEY</th>\n",
       "      <th>EXPENSES</th>\n",
       "      <th>PROCEEDS</th>\n",
       "      <th>доход</th>\n",
       "    </tr>\n",
       "  </thead>\n",
       "  <tbody>\n",
       "    <tr>\n",
       "      <th>0</th>\n",
       "      <td>0</td>\n",
       "      <td>2017_Speech synthesis</td>\n",
       "      <td>304177.0</td>\n",
       "      <td>1659028.0</td>\n",
       "      <td>1354851.0</td>\n",
       "    </tr>\n",
       "    <tr>\n",
       "      <th>1</th>\n",
       "      <td>1</td>\n",
       "      <td>2017_Watson</td>\n",
       "      <td>106780.0</td>\n",
       "      <td>720711.0</td>\n",
       "      <td>613931.0</td>\n",
       "    </tr>\n",
       "    <tr>\n",
       "      <th>2</th>\n",
       "      <td>2</td>\n",
       "      <td>2017_OCR</td>\n",
       "      <td>297888.0</td>\n",
       "      <td>1369815.0</td>\n",
       "      <td>1071927.0</td>\n",
       "    </tr>\n",
       "    <tr>\n",
       "      <th>3</th>\n",
       "      <td>3</td>\n",
       "      <td>2017_Speech recognition</td>\n",
       "      <td>178571.0</td>\n",
       "      <td>958785.0</td>\n",
       "      <td>780214.0</td>\n",
       "    </tr>\n",
       "    <tr>\n",
       "      <th>4</th>\n",
       "      <td>4</td>\n",
       "      <td>2017_Transformer</td>\n",
       "      <td>2072470.0</td>\n",
       "      <td>16546514.0</td>\n",
       "      <td>14474044.0</td>\n",
       "    </tr>\n",
       "  </tbody>\n",
       "</table>\n",
       "</div>"
      ],
      "text/plain": [
       "   Unnamed: 0              PRIMARY_KEY   EXPENSES    PROCEEDS       доход\n",
       "0           0    2017_Speech synthesis   304177.0   1659028.0   1354851.0\n",
       "1           1              2017_Watson   106780.0    720711.0    613931.0\n",
       "2           2                 2017_OCR   297888.0   1369815.0   1071927.0\n",
       "3           3  2017_Speech recognition   178571.0    958785.0    780214.0\n",
       "4           4         2017_Transformer  2072470.0  16546514.0  14474044.0"
      ]
     },
     "execution_count": 15,
     "metadata": {},
     "output_type": "execute_result"
    }
   ],
   "source": [
    "df2.head()"
   ]
  },
  {
   "cell_type": "code",
   "execution_count": 20,
   "id": "9adc79f8",
   "metadata": {},
   "outputs": [
    {
     "name": "stdout",
     "output_type": "stream",
     "text": [
      "['Speech synthesis', 'Watson', 'OCR', 'Speech recognition', 'Transformer', 'Facial recognition', 'GPT-2', 'AlphaGo', 'Transformer', 'GPT-3', 'GPT-3', 'Human image synthesis', 'WaveNet', 'WaveNet', 'WaveNet', 'WaveNet', 'Self-driving car', 'Self-driving car', 'Self-driving car', 'Self-driving car', 'GPT-3', 'GPT-3', 'GPT-3', 'GPT-3', 'Transformer', 'Transformer', 'Transformer', 'Transformer', 'Transformer', 'OCR', 'OCR', 'OCR', 'OCR', 'OCR', 'OCR', 'Speech synthesis', 'Speech synthesis', 'Speech synthesis', 'Speech synthesis', 'Speech synthesis', 'BERT', 'BERT', 'BERT', 'GPT-2', 'Speech recognition', 'Speech recognition', 'Speech recognition', 'Word2vec', 'Speech recognition', 'Q-learning', 'MuZero', 'Speech synthesis', 'Watson', 'OCR', 'Speech recognition', 'Transformer', 'Facial recognition', 'GPT-2', 'AlphaGo', 'Transformer', 'GPT-3', 'GPT-3', 'Human image synthesis', 'WaveNet', 'WaveNet', 'WaveNet', 'WaveNet', 'Self-driving car', 'Self-driving car', 'Self-driving car', 'Self-driving car', 'GPT-3', 'GPT-3', 'GPT-3', 'GPT-3', 'Transformer', 'Transformer', 'Transformer', 'Transformer', 'Transformer', 'OCR', 'OCR', 'OCR', 'OCR', 'OCR', 'OCR', 'Speech synthesis', 'Speech synthesis', 'Speech synthesis', 'Speech synthesis', 'Speech synthesis', 'BERT', 'BERT', 'BERT', 'GPT-2', 'Speech recognition', 'Speech recognition', 'Speech recognition', 'Word2vec', 'Speech recognition', 'Q-learning', 'MuZero', 'Speech synthesis', 'Watson', 'OCR', 'Speech recognition', 'Transformer', 'Facial recognition', 'GPT-2', 'AlphaGo', 'Transformer', 'GPT-3', 'GPT-3', 'Human image synthesis', 'WaveNet', 'WaveNet', 'WaveNet', 'WaveNet', 'Self-driving car', 'Self-driving car', 'Self-driving car', 'Self-driving car', 'GPT-3', 'GPT-3', 'GPT-3', 'GPT-3', 'Transformer', 'Transformer', 'Transformer', 'Transformer', 'Transformer', 'OCR', 'OCR', 'OCR', 'OCR', 'OCR', 'OCR', 'Speech synthesis', 'Speech synthesis', 'Speech synthesis', 'Speech synthesis', 'Speech synthesis', 'BERT', 'BERT', 'BERT', 'GPT-2', 'Speech recognition', 'Speech recognition', 'Speech recognition', 'Word2vec', 'Speech recognition', 'Q-learning', 'MuZero', 'Speech synthesis', 'Watson', 'OCR', 'Speech recognition', 'Transformer', 'Facial recognition', 'GPT-2', 'AlphaGo', 'Transformer', 'GPT-3', 'GPT-3', 'Human image synthesis', 'WaveNet', 'WaveNet', 'WaveNet', 'WaveNet', 'Self-driving car', 'Self-driving car', 'Self-driving car', 'Self-driving car', 'GPT-3', 'GPT-3', 'GPT-3', 'GPT-3', 'Transformer', 'Transformer', 'Transformer', 'Transformer', 'Transformer', 'OCR', 'OCR', 'OCR', 'OCR', 'OCR', 'OCR', 'Speech synthesis', 'Speech synthesis', 'Speech synthesis', 'Speech synthesis', 'Speech synthesis', 'BERT', 'BERT', 'BERT', 'GPT-2', 'Speech recognition', 'Speech recognition', 'Speech recognition', 'Word2vec', 'Speech recognition', 'Q-learning', 'MuZero', 'Speech synthesis', 'Watson', 'OCR', 'Speech recognition', 'Transformer', 'Facial recognition', 'GPT-2', 'AlphaGo', 'Transformer', 'GPT-3', 'GPT-3', 'Human image synthesis', 'WaveNet', 'WaveNet', 'WaveNet', 'WaveNet', 'Self-driving car', 'Self-driving car', 'Self-driving car', 'Self-driving car', 'GPT-3', 'GPT-3', 'GPT-3', 'GPT-3', 'Transformer', 'Transformer', 'Transformer', 'Transformer', 'Transformer', 'OCR', 'OCR', 'OCR', 'OCR', 'OCR', 'OCR', 'Speech synthesis', 'Speech synthesis', 'Speech synthesis', 'Speech synthesis', 'Speech synthesis', 'BERT', 'BERT', 'BERT', 'GPT-2', 'Speech recognition', 'Speech recognition', 'Speech recognition', 'Word2vec', 'Speech recognition', 'Q-learning', 'MuZero', 'Speech synthesis', 'Watson', 'OCR', 'Speech recognition', 'Transformer', 'Facial recognition', 'GPT-2', 'AlphaGo', 'Transformer', 'GPT-3', 'GPT-3', 'Human image synthesis', 'WaveNet', 'WaveNet', 'WaveNet', 'WaveNet', 'Self-driving car', 'Self-driving car', 'Self-driving car', 'Self-driving car', 'GPT-3', 'GPT-3', 'GPT-3', 'GPT-3', 'Transformer', 'Transformer', 'Transformer', 'Transformer', 'Transformer', 'OCR', 'OCR', 'OCR', 'OCR', 'OCR', 'OCR', 'Speech synthesis', 'Speech synthesis', 'Speech synthesis', 'Speech synthesis', 'Speech synthesis', 'BERT', 'BERT', 'BERT', 'GPT-2', 'Speech recognition', 'Speech recognition', 'Speech recognition', 'Word2vec', 'Speech recognition', 'Q-learning', 'MuZero', 'Speech synthesis', 'Watson', 'OCR', 'Speech recognition', 'Transformer', 'Facial recognition', 'GPT-2', 'AlphaGo', 'Transformer', 'GPT-3', 'GPT-3', 'Human image synthesis', 'WaveNet', 'WaveNet', 'WaveNet', 'WaveNet', 'Self-driving car', 'Self-driving car', 'Self-driving car', 'Self-driving car', 'GPT-3', 'GPT-3', 'GPT-3', 'GPT-3', 'Transformer', 'Transformer', 'Transformer', 'Transformer', 'Transformer', 'OCR', 'OCR', 'OCR', 'OCR', 'OCR', 'OCR', 'Speech synthesis', 'Speech synthesis', 'Speech synthesis', 'Speech synthesis', 'Speech synthesis', 'BERT', 'BERT', 'BERT', 'GPT-2', 'Speech recognition', 'Speech recognition', 'Speech recognition', 'Word2vec', 'Speech recognition', 'Q-learning', 'MuZero', 'Speech synthesis', 'Watson', 'OCR', 'Speech recognition', 'Transformer', 'Facial recognition', 'GPT-2', 'AlphaGo', 'Transformer', 'GPT-3', 'GPT-3', 'Human image synthesis', 'WaveNet', 'WaveNet', 'WaveNet', 'WaveNet', 'Self-driving car', 'Self-driving car', 'Self-driving car', 'Self-driving car', 'GPT-3', 'GPT-3', 'GPT-3', 'GPT-3', 'Transformer', 'Transformer', 'Transformer', 'Transformer', 'Transformer', 'OCR', 'OCR', 'OCR', 'OCR', 'OCR', 'OCR', 'Speech synthesis', 'Speech synthesis', 'Speech synthesis', 'Speech synthesis', 'Speech synthesis', 'BERT', 'BERT', 'BERT', 'GPT-2', 'Speech recognition', 'Speech recognition', 'Speech recognition', 'Word2vec', 'Speech recognition', 'Q-learning', 'MuZero', 'Speech synthesis', 'Watson', 'OCR', 'Speech recognition', 'Transformer', 'Facial recognition', 'GPT-2', 'AlphaGo', 'Transformer', 'GPT-3', 'GPT-3', 'Human image synthesis', 'WaveNet', 'WaveNet', 'WaveNet', 'WaveNet', 'Self-driving car', 'Self-driving car', 'Self-driving car', 'Self-driving car', 'GPT-3', 'GPT-3', 'GPT-3', 'GPT-3', 'Transformer', 'Transformer', 'Transformer', 'Transformer', 'Transformer', 'OCR', 'OCR', 'OCR', 'OCR', 'OCR', 'OCR', 'Speech synthesis', 'Speech synthesis', 'Speech synthesis', 'Speech synthesis', 'Speech synthesis', 'BERT', 'BERT', 'BERT', 'GPT-2', 'Speech recognition', 'Speech recognition', 'Speech recognition', 'Word2vec', 'Speech recognition', 'Q-learning', 'MuZero', 'Speech synthesis', 'Watson', 'OCR', 'Speech recognition', 'Transformer', 'Facial recognition', 'GPT-2', 'AlphaGo', 'Transformer', 'GPT-3', 'GPT-3', 'Human image synthesis', 'WaveNet', 'WaveNet', 'WaveNet', 'WaveNet', 'Self-driving car', 'Self-driving car', 'Self-driving car', 'Self-driving car', 'GPT-3', 'GPT-3', 'GPT-3', 'GPT-3', 'Transformer', 'Transformer', 'Transformer', 'Transformer', 'Transformer', 'OCR', 'OCR', 'OCR', 'OCR', 'OCR', 'OCR', 'Speech synthesis', 'Speech synthesis', 'Speech synthesis', 'Speech synthesis', 'Speech synthesis', 'BERT', 'BERT', 'BERT', 'GPT-2', 'Speech recognition', 'Speech recognition', 'Speech recognition', 'Word2vec', 'Speech recognition', 'Q-learning', 'MuZero', 'Speech synthesis', 'Watson', 'OCR', 'Speech recognition', 'Transformer', 'Facial recognition', 'GPT-2', 'AlphaGo', 'Transformer', 'GPT-3', 'GPT-3', 'Human image synthesis', 'WaveNet', 'WaveNet', 'WaveNet', 'WaveNet', 'Self-driving car', 'Self-driving car', 'Self-driving car', 'Self-driving car', 'GPT-3', 'GPT-3', 'GPT-3', 'GPT-3', 'Transformer', 'Transformer', 'Transformer', 'Transformer', 'Transformer', 'OCR', 'OCR', 'OCR', 'OCR', 'OCR', 'OCR', 'Speech synthesis', 'Speech synthesis', 'Speech synthesis', 'Speech synthesis', 'Speech synthesis', 'BERT', 'BERT', 'BERT', 'GPT-2', 'Speech recognition', 'Speech recognition', 'Speech recognition', 'Word2vec', 'Speech recognition', 'Q-learning', 'MuZero', 'Speech synthesis', 'Watson', 'OCR', 'Speech recognition', 'Transformer', 'Facial recognition', 'GPT-2', 'AlphaGo', 'Transformer', 'GPT-3', 'GPT-3', 'Human image synthesis', 'WaveNet', 'WaveNet', 'WaveNet', 'WaveNet', 'Self-driving car', 'Self-driving car', 'Self-driving car', 'Self-driving car', 'GPT-3', 'GPT-3', 'GPT-3', 'GPT-3', 'Transformer', 'Transformer', 'Transformer', 'Transformer', 'Transformer', 'OCR', 'OCR', 'OCR', 'OCR', 'OCR', 'OCR', 'Speech synthesis', 'Speech synthesis', 'Speech synthesis', 'Speech synthesis', 'Speech synthesis', 'BERT', 'BERT', 'BERT', 'GPT-2', 'Speech recognition', 'Speech recognition', 'Speech recognition', 'Word2vec', 'Speech recognition', 'Q-learning', 'MuZero', 'Speech synthesis', 'Watson', 'OCR', 'Speech recognition', 'Transformer', 'Facial recognition', 'GPT-2', 'AlphaGo', 'Transformer', 'GPT-3', 'GPT-3', 'Human image synthesis', 'WaveNet', 'WaveNet', 'WaveNet', 'WaveNet', 'Self-driving car', 'Self-driving car', 'Self-driving car', 'Self-driving car', 'GPT-3', 'GPT-3', 'GPT-3', 'GPT-3', 'Transformer', 'Transformer', 'Transformer', 'Transformer', 'Transformer', 'OCR', 'OCR', 'OCR', 'OCR', 'OCR', 'OCR', 'Speech synthesis', 'Speech synthesis', 'Speech synthesis', 'Speech synthesis', 'Speech synthesis', 'BERT', 'BERT', 'BERT', 'GPT-2', 'Speech recognition', 'Speech recognition', 'Speech recognition', 'Word2vec', 'Speech recognition', 'Q-learning', 'MuZero', 'Speech synthesis', 'Watson', 'OCR', 'Speech recognition', 'Transformer', 'Facial recognition', 'GPT-2', 'AlphaGo', 'Transformer', 'GPT-3', 'GPT-3', 'Human image synthesis', 'WaveNet', 'WaveNet', 'WaveNet', 'WaveNet', 'Self-driving car', 'Self-driving car', 'Self-driving car', 'Self-driving car', 'GPT-3', 'GPT-3', 'GPT-3', 'GPT-3', 'Transformer', 'Transformer', 'Transformer', 'Transformer', 'Transformer', 'OCR', 'OCR', 'OCR', 'OCR', 'OCR', 'OCR', 'Speech synthesis', 'Speech synthesis', 'Speech synthesis', 'Speech synthesis', 'Speech synthesis', 'BERT', 'BERT', 'BERT', 'GPT-2', 'Speech recognition', 'Speech recognition', 'Speech recognition', 'Word2vec', 'Speech recognition', 'Q-learning', 'MuZero', 'Speech synthesis', 'Watson', 'OCR', 'Speech recognition', 'Transformer', 'Facial recognition', 'GPT-2', 'AlphaGo', 'Transformer', 'GPT-3', 'GPT-3', 'Human image synthesis', 'WaveNet', 'WaveNet', 'WaveNet', 'WaveNet', 'Self-driving car', 'Self-driving car', 'Self-driving car', 'Self-driving car', 'GPT-3', 'GPT-3', 'GPT-3', 'GPT-3', 'Transformer', 'Transformer', 'Transformer', 'Transformer', 'Transformer', 'OCR', 'OCR', 'OCR', 'OCR', 'OCR', 'OCR', 'Speech synthesis', 'Speech synthesis', 'Speech synthesis', 'Speech synthesis', 'Speech synthesis', 'BERT', 'BERT', 'BERT', 'GPT-2', 'Speech recognition', 'Speech recognition', 'Speech recognition', 'Word2vec', 'Speech recognition', 'Q-learning', 'MuZero', 'Speech synthesis', 'Watson', 'OCR', 'Speech recognition', 'Transformer', 'Facial recognition', 'GPT-2', 'AlphaGo', 'Transformer', 'GPT-3', 'GPT-3', 'Human image synthesis', 'WaveNet', 'WaveNet', 'WaveNet', 'WaveNet', 'Self-driving car', 'Self-driving car', 'Self-driving car', 'Self-driving car', 'GPT-3', 'GPT-3', 'GPT-3', 'GPT-3', 'Transformer', 'Transformer', 'Transformer', 'Transformer', 'Transformer', 'OCR', 'OCR', 'OCR', 'OCR', 'OCR', 'OCR', 'Speech synthesis', 'Speech synthesis', 'Speech synthesis', 'Speech synthesis', 'Speech synthesis', 'BERT', 'BERT', 'BERT', 'GPT-2', 'Speech recognition', 'Speech recognition', 'Speech recognition', 'Word2vec', 'Speech recognition', 'Q-learning', 'MuZero', 'Speech synthesis', 'Watson', 'OCR', 'Speech recognition', 'Transformer', 'Facial recognition', 'GPT-2', 'AlphaGo', 'Transformer', 'GPT-3', 'GPT-3', 'Human image synthesis', 'WaveNet', 'WaveNet', 'WaveNet', 'WaveNet', 'Self-driving car', 'Self-driving car', 'Self-driving car', 'Self-driving car', 'GPT-3', 'GPT-3', 'GPT-3', 'GPT-3', 'Transformer', 'Transformer', 'Transformer', 'Transformer', 'Transformer', 'OCR', 'OCR', 'OCR', 'OCR', 'OCR', 'OCR', 'Speech synthesis', 'Speech synthesis', 'Speech synthesis', 'Speech synthesis', 'Speech synthesis', 'BERT', 'BERT', 'BERT', 'GPT-2', 'Speech recognition', 'Speech recognition', 'Speech recognition', 'Word2vec', 'Speech recognition', 'Q-learning', 'MuZero', 'Speech synthesis', 'Watson', 'OCR', 'Speech recognition', 'Transformer', 'Facial recognition', 'GPT-2', 'AlphaGo', 'Transformer', 'GPT-3', 'GPT-3', 'Human image synthesis', 'WaveNet', 'WaveNet', 'WaveNet', 'WaveNet', 'Self-driving car', 'Self-driving car', 'Self-driving car', 'Self-driving car', 'GPT-3', 'GPT-3', 'GPT-3', 'GPT-3', 'Transformer', 'Transformer', 'Transformer', 'Transformer', 'Transformer', 'OCR', 'OCR', 'OCR', 'OCR', 'OCR', 'OCR', 'Speech synthesis', 'Speech synthesis', 'Speech synthesis', 'Speech synthesis', 'Speech synthesis', 'BERT', 'BERT', 'BERT', 'GPT-2', 'Speech recognition', 'Speech recognition', 'Speech recognition', 'Word2vec', 'Speech recognition', 'Q-learning', 'MuZero', 'Speech synthesis', 'Watson', 'OCR', 'Speech recognition', 'Transformer', 'Facial recognition', 'GPT-2', 'AlphaGo', 'Transformer', 'GPT-3', 'GPT-3', 'Human image synthesis', 'WaveNet', 'WaveNet', 'WaveNet', 'WaveNet', 'Self-driving car', 'Self-driving car', 'Self-driving car', 'Self-driving car', 'GPT-3', 'GPT-3', 'GPT-3', 'GPT-3', 'Transformer', 'Transformer', 'Transformer', 'Transformer', 'Transformer', 'OCR', 'OCR', 'OCR', 'OCR', 'OCR', 'OCR', 'Speech synthesis', 'Speech synthesis', 'Speech synthesis', 'Speech synthesis', 'Speech synthesis', 'BERT', 'BERT', 'BERT', 'GPT-2', 'Speech recognition', 'Speech recognition', 'Speech recognition', 'Word2vec', 'Speech recognition', 'Q-learning', 'MuZero', 'Speech synthesis', 'Watson', 'OCR', 'Speech recognition', 'Transformer', 'Facial recognition', 'GPT-2', 'AlphaGo', 'Transformer', 'GPT-3', 'GPT-3', 'Human image synthesis', 'WaveNet', 'WaveNet', 'WaveNet', 'WaveNet', 'Self-driving car', 'Self-driving car', 'Self-driving car', 'Self-driving car', 'GPT-3', 'GPT-3', 'GPT-3', 'GPT-3', 'Transformer', 'Transformer', 'Transformer', 'Transformer', 'Transformer', 'OCR', 'OCR', 'OCR', 'OCR', 'OCR', 'OCR', 'Speech synthesis', 'Speech synthesis', 'Speech synthesis', 'Speech synthesis', 'Speech synthesis', 'BERT', 'BERT', 'BERT', 'GPT-2', 'Speech recognition', 'Speech recognition', 'Speech recognition', 'Word2vec', 'Speech recognition', 'Q-learning', 'MuZero', 'Speech synthesis', 'Watson', 'OCR', 'Speech recognition', 'Transformer', 'Facial recognition', 'GPT-2', 'AlphaGo', 'Transformer', 'GPT-3', 'GPT-3', 'Human image synthesis', 'WaveNet', 'WaveNet', 'WaveNet', 'WaveNet', 'Self-driving car', 'Self-driving car', 'Self-driving car', 'Self-driving car', 'GPT-3', 'GPT-3', 'GPT-3', 'GPT-3', 'Transformer', 'Transformer', 'Transformer', 'Transformer', 'Transformer', 'OCR', 'OCR', 'OCR', 'OCR', 'OCR', 'OCR', 'Speech synthesis', 'Speech synthesis', 'Speech synthesis', 'Speech synthesis', 'Speech synthesis', 'BERT', 'BERT', 'BERT', 'GPT-2', 'Speech recognition', 'Speech recognition', 'Speech recognition', 'Word2vec', 'Speech recognition', 'Q-learning', 'MuZero', 'Speech synthesis', 'Watson', 'OCR', 'Speech recognition', 'Transformer', 'Facial recognition', 'GPT-2', 'AlphaGo', 'Transformer', 'GPT-3', 'GPT-3', 'Human image synthesis', 'WaveNet', 'WaveNet', 'WaveNet', 'WaveNet', 'Self-driving car', 'Self-driving car', 'Self-driving car', 'Self-driving car', 'GPT-3', 'GPT-3', 'GPT-3', 'GPT-3', 'Transformer', 'Transformer', 'Transformer', 'Transformer', 'Transformer', 'OCR', 'OCR', 'OCR', 'OCR', 'OCR', 'OCR', 'Speech synthesis', 'Speech synthesis', 'Speech synthesis', 'Speech synthesis', 'Speech synthesis', 'BERT', 'BERT', 'BERT', 'GPT-2', 'Speech recognition', 'Speech recognition', 'Speech recognition', 'Word2vec', 'Speech recognition', 'Q-learning', 'MuZero', 'Speech synthesis', 'Watson', 'OCR', 'Speech recognition', 'Transformer', 'Facial recognition', 'GPT-2', 'AlphaGo', 'Transformer', 'GPT-3', 'GPT-3', 'Human image synthesis', 'WaveNet', 'WaveNet', 'WaveNet', 'WaveNet', 'Self-driving car', 'Self-driving car', 'Self-driving car', 'Self-driving car', 'GPT-3', 'GPT-3', 'GPT-3', 'GPT-3', 'Transformer', 'Transformer', 'Transformer', 'Transformer', 'Transformer', 'OCR', 'OCR', 'OCR', 'OCR', 'OCR', 'OCR', 'Speech synthesis', 'Speech synthesis', 'Speech synthesis', 'Speech synthesis', 'Speech synthesis', 'BERT', 'BERT', 'BERT', 'GPT-2', 'Speech recognition', 'Speech recognition', 'Speech recognition', 'Word2vec', 'Speech recognition', 'Q-learning', 'MuZero', 'Speech synthesis', 'Watson', 'OCR', 'Speech recognition', 'Transformer', 'Facial recognition', 'GPT-2', 'AlphaGo', 'Transformer', 'GPT-3', 'GPT-3', 'Human image synthesis', 'WaveNet', 'WaveNet', 'WaveNet', 'WaveNet', 'Self-driving car', 'Self-driving car', 'Self-driving car', 'Self-driving car', 'GPT-3', 'GPT-3', 'GPT-3', 'GPT-3', 'Transformer', 'Transformer', 'Transformer', 'Transformer', 'Transformer', 'OCR', 'OCR', 'OCR', 'OCR', 'OCR', 'OCR', 'Speech synthesis', 'Speech synthesis', 'Speech synthesis', 'Speech synthesis', 'Speech synthesis', 'BERT', 'BERT', 'BERT', 'GPT-2', 'Speech recognition', 'Speech recognition', 'Speech recognition', 'Word2vec', 'Speech recognition', 'Q-learning', 'MuZero', 'Speech synthesis', 'Watson', 'OCR', 'Speech recognition', 'Transformer', 'Facial recognition', 'GPT-2', 'AlphaGo', 'Transformer', 'GPT-3', 'GPT-3', 'Human image synthesis', 'WaveNet', 'WaveNet', 'WaveNet', 'WaveNet', 'Self-driving car', 'Self-driving car', 'Self-driving car', 'Self-driving car', 'GPT-3', 'GPT-3', 'GPT-3', 'GPT-3', 'Transformer', 'Transformer', 'Transformer', 'Transformer', 'Transformer', 'OCR', 'OCR', 'OCR', 'OCR', 'OCR', 'OCR', 'Speech synthesis', 'Speech synthesis', 'Speech synthesis', 'Speech synthesis', 'Speech synthesis', 'BERT', 'BERT', 'BERT', 'GPT-2', 'Speech recognition', 'Speech recognition', 'Speech recognition', 'Word2vec', 'Speech recognition', 'Q-learning', 'MuZero']\n"
     ]
    }
   ],
   "source": [
    "tq = df2['PRIMARY_KEY'].tolist()\n",
    "for i in range(len(tq)):\n",
    "    tq[i] = tq[i][tq[i].find('_')+1:]\n",
    "print(tq)"
   ]
  },
  {
   "cell_type": "code",
   "execution_count": 21,
   "id": "01d34845",
   "metadata": {},
   "outputs": [],
   "source": [
    "df2['технология'] = tq"
   ]
  },
  {
   "cell_type": "code",
   "execution_count": 22,
   "id": "b446a444",
   "metadata": {},
   "outputs": [
    {
     "data": {
      "text/html": [
       "<div>\n",
       "<style scoped>\n",
       "    .dataframe tbody tr th:only-of-type {\n",
       "        vertical-align: middle;\n",
       "    }\n",
       "\n",
       "    .dataframe tbody tr th {\n",
       "        vertical-align: top;\n",
       "    }\n",
       "\n",
       "    .dataframe thead th {\n",
       "        text-align: right;\n",
       "    }\n",
       "</style>\n",
       "<table border=\"1\" class=\"dataframe\">\n",
       "  <thead>\n",
       "    <tr style=\"text-align: right;\">\n",
       "      <th></th>\n",
       "      <th>Unnamed: 0</th>\n",
       "      <th>PRIMARY_KEY</th>\n",
       "      <th>EXPENSES</th>\n",
       "      <th>PROCEEDS</th>\n",
       "      <th>доход</th>\n",
       "      <th>технология</th>\n",
       "    </tr>\n",
       "  </thead>\n",
       "  <tbody>\n",
       "    <tr>\n",
       "      <th>0</th>\n",
       "      <td>0</td>\n",
       "      <td>2017_Speech synthesis</td>\n",
       "      <td>304177.0</td>\n",
       "      <td>1659028.0</td>\n",
       "      <td>1354851.0</td>\n",
       "      <td>Speech synthesis</td>\n",
       "    </tr>\n",
       "    <tr>\n",
       "      <th>1</th>\n",
       "      <td>1</td>\n",
       "      <td>2017_Watson</td>\n",
       "      <td>106780.0</td>\n",
       "      <td>720711.0</td>\n",
       "      <td>613931.0</td>\n",
       "      <td>Watson</td>\n",
       "    </tr>\n",
       "    <tr>\n",
       "      <th>2</th>\n",
       "      <td>2</td>\n",
       "      <td>2017_OCR</td>\n",
       "      <td>297888.0</td>\n",
       "      <td>1369815.0</td>\n",
       "      <td>1071927.0</td>\n",
       "      <td>OCR</td>\n",
       "    </tr>\n",
       "    <tr>\n",
       "      <th>3</th>\n",
       "      <td>3</td>\n",
       "      <td>2017_Speech recognition</td>\n",
       "      <td>178571.0</td>\n",
       "      <td>958785.0</td>\n",
       "      <td>780214.0</td>\n",
       "      <td>Speech recognition</td>\n",
       "    </tr>\n",
       "    <tr>\n",
       "      <th>4</th>\n",
       "      <td>4</td>\n",
       "      <td>2017_Transformer</td>\n",
       "      <td>2072470.0</td>\n",
       "      <td>16546514.0</td>\n",
       "      <td>14474044.0</td>\n",
       "      <td>Transformer</td>\n",
       "    </tr>\n",
       "  </tbody>\n",
       "</table>\n",
       "</div>"
      ],
      "text/plain": [
       "   Unnamed: 0              PRIMARY_KEY   EXPENSES    PROCEEDS       доход  \\\n",
       "0           0    2017_Speech synthesis   304177.0   1659028.0   1354851.0   \n",
       "1           1              2017_Watson   106780.0    720711.0    613931.0   \n",
       "2           2                 2017_OCR   297888.0   1369815.0   1071927.0   \n",
       "3           3  2017_Speech recognition   178571.0    958785.0    780214.0   \n",
       "4           4         2017_Transformer  2072470.0  16546514.0  14474044.0   \n",
       "\n",
       "           технология  \n",
       "0    Speech synthesis  \n",
       "1              Watson  \n",
       "2                 OCR  \n",
       "3  Speech recognition  \n",
       "4         Transformer  "
      ]
     },
     "execution_count": 22,
     "metadata": {},
     "output_type": "execute_result"
    }
   ],
   "source": [
    "df2.head()"
   ]
  },
  {
   "cell_type": "code",
   "execution_count": 23,
   "id": "1a25c3d7",
   "metadata": {},
   "outputs": [],
   "source": [
    "#df2[\"технология\"] = df2.groupby(\"PRIMARY_KEY\").agg({\"доход\" : np.mean}) \n",
    "#df2[\"технология\"] = df2.groupby(\"PRIMARY_KEY\").agg({\"доход\" : np.mean}) \n",
    "\n",
    "res = (df2.groupby(pd.Grouper(key='технология'))\n",
    "                  ['доход']\n",
    "                  .mean()\n",
    "                  .reset_index(name='доход от технологии'))"
   ]
  },
  {
   "cell_type": "code",
   "execution_count": 24,
   "id": "10fedf7e",
   "metadata": {},
   "outputs": [
    {
     "data": {
      "text/html": [
       "<div>\n",
       "<style scoped>\n",
       "    .dataframe tbody tr th:only-of-type {\n",
       "        vertical-align: middle;\n",
       "    }\n",
       "\n",
       "    .dataframe tbody tr th {\n",
       "        vertical-align: top;\n",
       "    }\n",
       "\n",
       "    .dataframe thead th {\n",
       "        text-align: right;\n",
       "    }\n",
       "</style>\n",
       "<table border=\"1\" class=\"dataframe\">\n",
       "  <thead>\n",
       "    <tr style=\"text-align: right;\">\n",
       "      <th></th>\n",
       "      <th>технология</th>\n",
       "      <th>доход от технологии</th>\n",
       "    </tr>\n",
       "  </thead>\n",
       "  <tbody>\n",
       "    <tr>\n",
       "      <th>0</th>\n",
       "      <td>Speech synthesis</td>\n",
       "      <td>3.227248e+06</td>\n",
       "    </tr>\n",
       "    <tr>\n",
       "      <th>1</th>\n",
       "      <td>Watson</td>\n",
       "      <td>8.180296e+05</td>\n",
       "    </tr>\n",
       "    <tr>\n",
       "      <th>2</th>\n",
       "      <td>OCR</td>\n",
       "      <td>4.543448e+06</td>\n",
       "    </tr>\n",
       "    <tr>\n",
       "      <th>3</th>\n",
       "      <td>Speech recognition</td>\n",
       "      <td>1.877511e+06</td>\n",
       "    </tr>\n",
       "    <tr>\n",
       "      <th>4</th>\n",
       "      <td>Transformer</td>\n",
       "      <td>4.522072e+06</td>\n",
       "    </tr>\n",
       "  </tbody>\n",
       "</table>\n",
       "</div>"
      ],
      "text/plain": [
       "           технология  доход от технологии\n",
       "0    Speech synthesis         3.227248e+06\n",
       "1              Watson         8.180296e+05\n",
       "2                 OCR         4.543448e+06\n",
       "3  Speech recognition         1.877511e+06\n",
       "4         Transformer         4.522072e+06"
      ]
     },
     "execution_count": 24,
     "metadata": {},
     "output_type": "execute_result"
    }
   ],
   "source": [
    "res.head()"
   ]
  },
  {
   "cell_type": "code",
   "execution_count": 25,
   "id": "08c938ac",
   "metadata": {},
   "outputs": [
    {
     "name": "stdout",
     "output_type": "stream",
     "text": [
      "<class 'pandas.core.frame.DataFrame'>\n",
      "RangeIndex: 16 entries, 0 to 15\n",
      "Data columns (total 2 columns):\n",
      " #   Column               Non-Null Count  Dtype  \n",
      "---  ------               --------------  -----  \n",
      " 0   технология           16 non-null     object \n",
      " 1   доход от технологии  16 non-null     float64\n",
      "dtypes: float64(1), object(1)\n",
      "memory usage: 384.0+ bytes\n"
     ]
    }
   ],
   "source": [
    "res.info()"
   ]
  },
  {
   "cell_type": "code",
   "execution_count": 26,
   "id": "8836cc4a",
   "metadata": {},
   "outputs": [
    {
     "name": "stdout",
     "output_type": "stream",
     "text": [
      "               технология  доход от технологии\n",
      "8                   GPT-3         5.854825e+06\n",
      "6                   GPT-2         5.403160e+06\n",
      "2                     OCR         4.543448e+06\n",
      "4             Transformer         4.522072e+06\n",
      "13               Word2vec         3.972267e+06\n",
      "14             Q-learning         3.832498e+06\n",
      "0        Speech synthesis         3.227248e+06\n",
      "10                WaveNet         3.163811e+06\n",
      "5      Facial recognition         3.082242e+06\n",
      "3      Speech recognition         1.877511e+06\n",
      "11       Self-driving car         1.790330e+06\n",
      "12                   BERT         1.556297e+06\n",
      "9   Human image synthesis         1.547022e+06\n",
      "1                  Watson         8.180296e+05\n",
      "7                 AlphaGo         7.303885e+05\n",
      "15                 MuZero         5.248982e+05\n"
     ]
    }
   ],
   "source": [
    "print(res.sort_values(by=['доход от технологии'], ascending=False))"
   ]
  },
  {
   "cell_type": "code",
   "execution_count": 30,
   "id": "0b3b674f",
   "metadata": {},
   "outputs": [
    {
     "name": "stdout",
     "output_type": "stream",
     "text": [
      "150\n"
     ]
    }
   ],
   "source": [
    "df3 = df2[['технология','доход']] \n",
    "bs1 = df3[df3['технология'] == 'GPT-3' ]\n",
    "print(len(bs1))\n",
    "\n",
    "bs1_list = bs1['доход' ].tolist()\n",
    "#print(bs1_list)"
   ]
  },
  {
   "cell_type": "code",
   "execution_count": 31,
   "id": "90e20c01",
   "metadata": {},
   "outputs": [
    {
     "data": {
      "text/html": [
       "<div>\n",
       "<style scoped>\n",
       "    .dataframe tbody tr th:only-of-type {\n",
       "        vertical-align: middle;\n",
       "    }\n",
       "\n",
       "    .dataframe tbody tr th {\n",
       "        vertical-align: top;\n",
       "    }\n",
       "\n",
       "    .dataframe thead th {\n",
       "        text-align: right;\n",
       "    }\n",
       "</style>\n",
       "<table border=\"1\" class=\"dataframe\">\n",
       "  <thead>\n",
       "    <tr style=\"text-align: right;\">\n",
       "      <th></th>\n",
       "      <th>технология</th>\n",
       "      <th>доход</th>\n",
       "    </tr>\n",
       "  </thead>\n",
       "  <tbody>\n",
       "    <tr>\n",
       "      <th>9</th>\n",
       "      <td>GPT-3</td>\n",
       "      <td>4895529.0</td>\n",
       "    </tr>\n",
       "    <tr>\n",
       "      <th>10</th>\n",
       "      <td>GPT-3</td>\n",
       "      <td>2399973.0</td>\n",
       "    </tr>\n",
       "    <tr>\n",
       "      <th>20</th>\n",
       "      <td>GPT-3</td>\n",
       "      <td>1550498.0</td>\n",
       "    </tr>\n",
       "    <tr>\n",
       "      <th>21</th>\n",
       "      <td>GPT-3</td>\n",
       "      <td>1165105.0</td>\n",
       "    </tr>\n",
       "    <tr>\n",
       "      <th>22</th>\n",
       "      <td>GPT-3</td>\n",
       "      <td>2001463.0</td>\n",
       "    </tr>\n",
       "  </tbody>\n",
       "</table>\n",
       "</div>"
      ],
      "text/plain": [
       "   технология      доход\n",
       "9       GPT-3  4895529.0\n",
       "10      GPT-3  2399973.0\n",
       "20      GPT-3  1550498.0\n",
       "21      GPT-3  1165105.0\n",
       "22      GPT-3  2001463.0"
      ]
     },
     "execution_count": 31,
     "metadata": {},
     "output_type": "execute_result"
    }
   ],
   "source": [
    "bs1.head()"
   ]
  },
  {
   "cell_type": "code",
   "execution_count": 32,
   "id": "3cde3e03",
   "metadata": {},
   "outputs": [
    {
     "name": "stdout",
     "output_type": "stream",
     "text": [
      "50\n"
     ]
    }
   ],
   "source": [
    "\n",
    "bs2 = df3[df3['технология'] == 'GPT-2' ]\n",
    "print(len(bs2))\n",
    "bs2_list = bs2['доход'].tolist()"
   ]
  },
  {
   "cell_type": "code",
   "execution_count": 33,
   "id": "7df8db2e",
   "metadata": {},
   "outputs": [
    {
     "data": {
      "text/html": [
       "<div>\n",
       "<style scoped>\n",
       "    .dataframe tbody tr th:only-of-type {\n",
       "        vertical-align: middle;\n",
       "    }\n",
       "\n",
       "    .dataframe tbody tr th {\n",
       "        vertical-align: top;\n",
       "    }\n",
       "\n",
       "    .dataframe thead th {\n",
       "        text-align: right;\n",
       "    }\n",
       "</style>\n",
       "<table border=\"1\" class=\"dataframe\">\n",
       "  <thead>\n",
       "    <tr style=\"text-align: right;\">\n",
       "      <th></th>\n",
       "      <th>технология</th>\n",
       "      <th>доход</th>\n",
       "    </tr>\n",
       "  </thead>\n",
       "  <tbody>\n",
       "    <tr>\n",
       "      <th>6</th>\n",
       "      <td>GPT-2</td>\n",
       "      <td>-1003.0</td>\n",
       "    </tr>\n",
       "    <tr>\n",
       "      <th>43</th>\n",
       "      <td>GPT-2</td>\n",
       "      <td>-489490.0</td>\n",
       "    </tr>\n",
       "    <tr>\n",
       "      <th>57</th>\n",
       "      <td>GPT-2</td>\n",
       "      <td>-5665.0</td>\n",
       "    </tr>\n",
       "    <tr>\n",
       "      <th>94</th>\n",
       "      <td>GPT-2</td>\n",
       "      <td>-241485.0</td>\n",
       "    </tr>\n",
       "    <tr>\n",
       "      <th>108</th>\n",
       "      <td>GPT-2</td>\n",
       "      <td>11372.0</td>\n",
       "    </tr>\n",
       "  </tbody>\n",
       "</table>\n",
       "</div>"
      ],
      "text/plain": [
       "    технология     доход\n",
       "6        GPT-2   -1003.0\n",
       "43       GPT-2 -489490.0\n",
       "57       GPT-2   -5665.0\n",
       "94       GPT-2 -241485.0\n",
       "108      GPT-2   11372.0"
      ]
     },
     "execution_count": 33,
     "metadata": {},
     "output_type": "execute_result"
    }
   ],
   "source": [
    "bs2.head()"
   ]
  },
  {
   "cell_type": "code",
   "execution_count": 34,
   "id": "31311b4a",
   "metadata": {},
   "outputs": [
    {
     "name": "stdout",
     "output_type": "stream",
     "text": [
      "175\n"
     ]
    }
   ],
   "source": [
    "bs3 = df3[df3['технология'] == 'OCR' ]\n",
    "print(len(bs3))\n",
    "bs3_list = bs3['доход'].tolist()"
   ]
  },
  {
   "cell_type": "code",
   "execution_count": 36,
   "id": "e4459ea5",
   "metadata": {},
   "outputs": [
    {
     "data": {
      "text/html": [
       "<div>\n",
       "<style scoped>\n",
       "    .dataframe tbody tr th:only-of-type {\n",
       "        vertical-align: middle;\n",
       "    }\n",
       "\n",
       "    .dataframe tbody tr th {\n",
       "        vertical-align: top;\n",
       "    }\n",
       "\n",
       "    .dataframe thead th {\n",
       "        text-align: right;\n",
       "    }\n",
       "</style>\n",
       "<table border=\"1\" class=\"dataframe\">\n",
       "  <thead>\n",
       "    <tr style=\"text-align: right;\">\n",
       "      <th></th>\n",
       "      <th>технология</th>\n",
       "      <th>доход</th>\n",
       "    </tr>\n",
       "  </thead>\n",
       "  <tbody>\n",
       "    <tr>\n",
       "      <th>2</th>\n",
       "      <td>OCR</td>\n",
       "      <td>1071927.0</td>\n",
       "    </tr>\n",
       "    <tr>\n",
       "      <th>29</th>\n",
       "      <td>OCR</td>\n",
       "      <td>55276.0</td>\n",
       "    </tr>\n",
       "    <tr>\n",
       "      <th>30</th>\n",
       "      <td>OCR</td>\n",
       "      <td>4088655.0</td>\n",
       "    </tr>\n",
       "    <tr>\n",
       "      <th>31</th>\n",
       "      <td>OCR</td>\n",
       "      <td>829133.0</td>\n",
       "    </tr>\n",
       "    <tr>\n",
       "      <th>32</th>\n",
       "      <td>OCR</td>\n",
       "      <td>7525633.0</td>\n",
       "    </tr>\n",
       "  </tbody>\n",
       "</table>\n",
       "</div>"
      ],
      "text/plain": [
       "   технология      доход\n",
       "2         OCR  1071927.0\n",
       "29        OCR    55276.0\n",
       "30        OCR  4088655.0\n",
       "31        OCR   829133.0\n",
       "32        OCR  7525633.0"
      ]
     },
     "execution_count": 36,
     "metadata": {},
     "output_type": "execute_result"
    }
   ],
   "source": [
    "bs3.head()"
   ]
  },
  {
   "cell_type": "code",
   "execution_count": 37,
   "id": "795e4bc3",
   "metadata": {},
   "outputs": [],
   "source": [
    "B = 50000\n",
    "\n",
    "N1 = 150\n",
    "N2 = 50\n",
    "N3 = 175\n",
    "\n",
    "#k = random.randint(0,29)\n",
    "#print(k)"
   ]
  },
  {
   "cell_type": "code",
   "execution_count": 42,
   "id": "f6c3fe36",
   "metadata": {},
   "outputs": [],
   "source": [
    "def BTS(a, N):\n",
    "    individual_estimates2 = np.empty(B)\n",
    "    for i in range(B):\n",
    "        individual_estimates0 = np.empty(N)\n",
    "        for j in range(N):\n",
    "            k = random.randint(0,N-1)\n",
    "            choice = a[k]\n",
    "            individual_estimates0[j] = choice\n",
    "        individual_estimates1 = individual_estimates0.mean()\n",
    "    \n",
    "        individual_estimates2[i] = individual_estimates1\n",
    "    \n",
    "    bmean = individual_estimates2.mean()\n",
    "\n",
    "    bstd = individual_estimates2.std()\n",
    "\n",
    "    lower = bmean + norm.ppf(0.025)*bstd\n",
    "\n",
    "    upper = bmean + norm.ppf(0.975)*bstd\n",
    "    \n",
    "    print(lower,' ',upper)\n",
    "    \n",
    "    "
   ]
  },
  {
   "cell_type": "code",
   "execution_count": 43,
   "id": "8abf87a6",
   "metadata": {},
   "outputs": [
    {
     "name": "stdout",
     "output_type": "stream",
     "text": [
      "5362553.382433384   6351465.41517035\n"
     ]
    }
   ],
   "source": [
    "BTS(bs1_list, N1)"
   ]
  },
  {
   "cell_type": "code",
   "execution_count": 44,
   "id": "09a4abd0",
   "metadata": {},
   "outputs": [
    {
     "name": "stdout",
     "output_type": "stream",
     "text": [
      "3875023.692199307   6929905.444387891\n"
     ]
    }
   ],
   "source": [
    "BTS(bs2_list, N2)"
   ]
  },
  {
   "cell_type": "code",
   "execution_count": 45,
   "id": "fda10df1",
   "metadata": {},
   "outputs": [
    {
     "name": "stdout",
     "output_type": "stream",
     "text": [
      "3742340.801428384   5347973.916346702\n"
     ]
    }
   ],
   "source": [
    "BTS(bs3_list, N3)"
   ]
  },
  {
   "cell_type": "code",
   "execution_count": null,
   "id": "fda1dab1",
   "metadata": {},
   "outputs": [],
   "source": []
  }
 ],
 "metadata": {
  "kernelspec": {
   "display_name": "Python 3 (ipykernel)",
   "language": "python",
   "name": "python3"
  },
  "language_info": {
   "codemirror_mode": {
    "name": "ipython",
    "version": 3
   },
   "file_extension": ".py",
   "mimetype": "text/x-python",
   "name": "python",
   "nbconvert_exporter": "python",
   "pygments_lexer": "ipython3",
   "version": "3.8.5"
  }
 },
 "nbformat": 4,
 "nbformat_minor": 5
}
